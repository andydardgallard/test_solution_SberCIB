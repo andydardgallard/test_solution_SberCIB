{
 "cells": [
  {
   "cell_type": "code",
   "execution_count": 1,
   "metadata": {
    "collapsed": true
   },
   "outputs": [],
   "source": [
    "# Библиотеки, данные\n",
    "import pandas as pd\n",
    "import random\n",
    "import numpy as np\n",
    "from sklearn.preprocessing import StandardScaler\n",
    "from sklearn import cross_validation, ensemble, tree, metrics, svm, linear_model\n",
    "from sklearn.grid_search import GridSearchCV\n",
    "data=pd.read_csv(\"base_train.csv\", sep=\";\")"
   ]
  },
  {
   "cell_type": "code",
   "execution_count": 2,
   "metadata": {},
   "outputs": [
    {
     "name": "stdout",
     "output_type": "stream",
     "text": [
      "Populating the interactive namespace from numpy and matplotlib\n"
     ]
    },
    {
     "name": "stderr",
     "output_type": "stream",
     "text": [
      "WARNING: pylab import has clobbered these variables: ['random']\n",
      "`%matplotlib` prevents importing * from pylab and numpy\n"
     ]
    }
   ],
   "source": [
    "%pylab inline"
   ]
  },
  {
   "cell_type": "markdown",
   "metadata": {},
   "source": [
    "## Определения"
   ]
  },
  {
   "cell_type": "markdown",
   "metadata": {},
   "source": [
    "### Выборки"
   ]
  },
  {
   "cell_type": "code",
   "execution_count": 3,
   "metadata": {
    "collapsed": true
   },
   "outputs": [],
   "source": [
    "# Основная выборка\n",
    "data.report_dt=data.report_dt.apply(pd.to_datetime)\n",
    "data['month']=data.report_dt.apply(lambda x: x.month) #добавляется признак \"месяц\""
   ]
  },
  {
   "cell_type": "markdown",
   "metadata": {},
   "source": [
    "## 1. Анализ выборки.\n",
    "### 1.1. Анализ признаков"
   ]
  },
  {
   "cell_type": "code",
   "execution_count": 6,
   "metadata": {},
   "outputs": [
    {
     "name": "stdout",
     "output_type": "stream",
     "text": [
      "Index([u'report_dt', u'ID', u'1.1.', u'1.2.', u'1.3.', u'1.4.', u'1.5.',\n",
      "       u'1.6.', u'1.7.', u'1.8.', u'1.9.', u'1.10.', u'1.11.', u'1.12.',\n",
      "       u'1.13.', u'1.14.', u'1.15.', u'1.16.', u'1.17.', u'1.18.', u'1.19.',\n",
      "       u'2.1.', u'2.2.', u'2.3.', u'2.4.', u'2.5.', u'2.6.', u'2.7.', u'2.8.',\n",
      "       u'2.9.', u'2.10.', u'2.11.', u'2.12.', u'2.13.', u'2.14.', u'2.15.',\n",
      "       u'2.16.', u'3.1.', u'3.2.', u'3.3.', u'3.4.', u'3.5.', u'3.6.', u'3.7.',\n",
      "       u'3.8.', u'3.9.', u'3.10.', u'3.11.', u'3.12.', u'3.13.', u'3.14.',\n",
      "       u'3.15.', u'X3', u'Y3', u'month'],\n",
      "      dtype='object')\n"
     ]
    }
   ],
   "source": [
    "print data.columns"
   ]
  },
  {
   "cell_type": "code",
   "execution_count": 4,
   "metadata": {},
   "outputs": [
    {
     "name": "stdout",
     "output_type": "stream",
     "text": [
      "2 1.1. 880\n",
      "3 1.2. 171\n",
      "4 1.3. 2667\n",
      "5 1.4. 939\n",
      "6 1.5. 9869\n",
      "7 1.6. 900\n",
      "8 1.7. 870\n",
      "9 1.8. 1381\n",
      "10 1.9. 729\n",
      "11 1.10. 734\n",
      "12 1.11. 174\n",
      "13 1.12. 756\n",
      "14 1.13. 551\n",
      "15 1.14. 4847\n",
      "16 1.15. 19403\n",
      "17 1.16. 974\n",
      "18 1.17. 2773\n",
      "19 1.18. 869\n",
      "20 1.19. 1490\n",
      "21 2.1. 651\n",
      "22 2.2. 171\n",
      "23 2.3. 1775\n",
      "24 2.4. 5747\n",
      "25 2.5. 32\n",
      "26 2.6. 437\n",
      "27 2.7. 983\n",
      "28 2.8. 939\n",
      "29 2.9. 562\n",
      "30 2.10. 381\n",
      "31 2.11. 22\n",
      "32 2.12. 0\n",
      "33 2.13. 8\n",
      "34 2.14. 722\n",
      "35 2.15. 153\n",
      "36 2.16. 522\n",
      "37 3.1. 1088\n",
      "38 3.2. 328\n",
      "39 3.3. 2194\n",
      "40 3.4. 15\n",
      "41 3.5. 169\n",
      "42 3.6. 55\n",
      "43 3.7. 318\n",
      "44 3.8. 259\n",
      "45 3.9. 299\n",
      "46 3.10. 219\n",
      "47 3.11. 272\n",
      "48 3.12. 6\n",
      "49 3.13. 40\n",
      "50 3.14. 8\n",
      "51 3.15. 44\n",
      "52 X3 966.0\n",
      "53 Y3 669.0\n",
      "54 month 265680\n"
     ]
    }
   ],
   "source": [
    "for i in range(2,len(data.columns)):\n",
    "    print i, data.columns[i], np.sum(data[data.columns[i]])"
   ]
  },
  {
   "cell_type": "code",
   "execution_count": 5,
   "metadata": {},
   "outputs": [
    {
     "name": "stdout",
     "output_type": "stream",
     "text": [
      "2.12. 0\n"
     ]
    }
   ],
   "source": [
    "# Признак \"2.12.\" несет одни и те же значения для всех объектов. Можно удалить из выборки.\n",
    "print data.columns[32], np.sum(data[data.columns[32]])"
   ]
  },
  {
   "cell_type": "code",
   "execution_count": 6,
   "metadata": {},
   "outputs": [
    {
     "name": "stdout",
     "output_type": "stream",
     "text": [
      "(42602, 54)\n"
     ]
    }
   ],
   "source": [
    "data.drop(\"2.12.\", axis=1, inplace=True)\n",
    "print data.shape"
   ]
  },
  {
   "cell_type": "markdown",
   "metadata": {},
   "source": [
    "## 2. Подготовка выборки\n",
    "### 2.1. Пропущенные данные"
   ]
  },
  {
   "cell_type": "code",
   "execution_count": 7,
   "metadata": {},
   "outputs": [
    {
     "name": "stdout",
     "output_type": "stream",
     "text": [
      "(11519, 54) 27.0 %\n"
     ]
    }
   ],
   "source": [
    "# пропуски содержат только столбцы Х3 и Y3\n",
    "# пропуски занимают 27% данных\n",
    "data_na=data[data.X3.isnull()]\n",
    "print data_na.shape, float(len(data_na)*100/len(data)),\"%\""
   ]
  },
  {
   "cell_type": "code",
   "execution_count": 8,
   "metadata": {},
   "outputs": [
    {
     "name": "stdout",
     "output_type": "stream",
     "text": [
      "(10304, 54) 24.0 % пропусков сосредоточены в признаке дата. Полностью отсутствуют значения в месяцах: февраль, апрель и сентябрь (кроме сентября 2015 года)\n"
     ]
    }
   ],
   "source": [
    "# Выборка пропусков значений X3 и Y3 от поля report_dt\n",
    "unique_dates=data.report_dt[data.X3.isnull()].value_counts()-data.report_dt.value_counts()\n",
    "data_na_dates=data[data.report_dt==unique_dates.index[unique_dates==0][0]]\n",
    "for i in range(1,len(unique_dates.index[unique_dates==0])):      \n",
    "    data_na_dates=data_na_dates.append(data[data.report_dt==unique_dates.index[unique_dates==0][i]])    \n",
    "print data_na_dates.shape, float(len(data_na_dates)*100/len(data)),\"% пропусков сосредоточены в признаке дата. Полностью отсутствуют значения в месяцах: февраль, апрель и сентябрь (кроме сентября 2015 года)\"\n"
   ]
  },
  {
   "cell_type": "code",
   "execution_count": 9,
   "metadata": {},
   "outputs": [
    {
     "name": "stdout",
     "output_type": "stream",
     "text": [
      "(111, 54) 0.0 %, 59 из 1599 уникальных отчетов не имеют совсем никаких объектов. с общим количеством (пустых) объектов 111\n"
     ]
    }
   ],
   "source": [
    "# Выборка пропусков значений X3 и Y3 от поля ID\n",
    "unique_ID=data.ID[data.X3.isnull()].value_counts()-data.ID.value_counts()\n",
    "data_na_ID=data[data.ID==unique_ID.index[unique_ID==0][0]]\n",
    "for i in range(1,len(unique_ID.index[unique_ID==0])):      \n",
    "    data_na_ID=data_na_ID.append(data[data.ID==unique_ID.index[unique_ID==0][i]])    \n",
    "print data_na_ID.shape, float(len(data_na_ID)*100/len(data)),\"%,\", i+1, \"из\", len(unique_ID.index),\"уникальных отчетов не имеют совсем никаких объектов. с общим количеством (пустых) объектов\", data_na_ID.shape[0] "
   ]
  },
  {
   "cell_type": "code",
   "execution_count": 10,
   "metadata": {},
   "outputs": [
    {
     "name": "stdout",
     "output_type": "stream",
     "text": [
      "(42602, 54)\n",
      "(42491, 54)\n",
      "111 59\n"
     ]
    }
   ],
   "source": [
    "# выборка для проведения resampling по ID (-111 NaN объектов)\n",
    "data_sampling=data.drop(data_na_ID.index, axis=0, inplace=False)\n",
    "print data.shape\n",
    "print data_sampling.shape\n",
    "print data.shape[0]-data_sampling.shape[0], data.ID.value_counts().shape[0]-data_sampling.ID.value_counts().shape[0]"
   ]
  },
  {
   "cell_type": "markdown",
   "metadata": {},
   "source": [
    "### 2.1.1. Resampling by ID"
   ]
  },
  {
   "cell_type": "code",
   "execution_count": 11,
   "metadata": {},
   "outputs": [
    {
     "name": "stderr",
     "output_type": "stream",
     "text": [
      "C:\\Anaconda2\\lib\\site-packages\\pandas\\core\\generic.py:3191: SettingWithCopyWarning: \n",
      "A value is trying to be set on a copy of a slice from a DataFrame\n",
      "\n",
      "See the caveats in the documentation: http://pandas.pydata.org/pandas-docs/stable/indexing.html#indexing-view-versus-copy\n",
      "  self._update_inplace(new_data)\n"
     ]
    },
    {
     "name": "stdout",
     "output_type": "stream",
     "text": [
      "(42491, 55)\n",
      "Остались пропуски? False\n"
     ]
    }
   ],
   "source": [
    "# Заполнение пропусков в данных случайным образом соседними значениями по группе. Группировка по полю ID. \n",
    "# Т.е. копируются значения с одинковыми ID\n",
    "\n",
    "data_resampled=pd.DataFrame()\n",
    "for i in range(len(data_sampling.ID.unique())):    \n",
    "    unique_ID_sampling=data_sampling[data_sampling.ID==data_sampling.ID.unique()[i]]\n",
    "    random_choice_X=unique_ID_sampling[unique_ID_sampling.X3.notnull()].X3\n",
    "    random_choice_Y=unique_ID_sampling[unique_ID_sampling.Y3.notnull()].Y3\n",
    "    unique_ID_sampling.X3.fillna(random.choice(random_choice_X.values), inplace=True)\n",
    "    unique_ID_sampling.Y3.fillna(random.choice(random_choice_Y.values), inplace=True)    \n",
    "    data_resampled=data_resampled.append(unique_ID_sampling)\n",
    "data_resampled['clastr']=(data_resampled.X3+data_resampled.Y3)\n",
    "print data_resampled.shape\n",
    "print \"Остались пропуски?\", data_resampled.isnull().values.any()"
   ]
  },
  {
   "cell_type": "markdown",
   "metadata": {},
   "source": [
    "### 2.1.5. Выборка с удалением пропусков"
   ]
  },
  {
   "cell_type": "code",
   "execution_count": 12,
   "metadata": {},
   "outputs": [
    {
     "name": "stdout",
     "output_type": "stream",
     "text": [
      "(31083, 54)\n"
     ]
    }
   ],
   "source": [
    "data_w_na=data.dropna()\n",
    "print data_w_na.shape"
   ]
  },
  {
   "cell_type": "markdown",
   "metadata": {},
   "source": [
    "### 2.2. Балансировка, стратификация и масштабирование"
   ]
  },
  {
   "cell_type": "code",
   "execution_count": 13,
   "metadata": {},
   "outputs": [
    {
     "name": "stdout",
     "output_type": "stream",
     "text": [
      "Не существует X3=0, при Y3=1. Сумма всех X3|(Y3=1)= 669.0 всего (Y3=1)= 669\n",
      "-------------------\n",
      "начальная выборка: X3=0 30117 70.69 %\n",
      "начальная выборка: Y3=0 30414 71.39 %\n",
      "начальная выборка: X3=1 966 2.27 %\n",
      "начальная выборка: Y3=1 669 1.57 %\n",
      "начальная выборка: X3=NaN 11519 27.04 %\n",
      "начальная выборка: Y3=NaN 11519 27.04 %\n",
      "---\n",
      "т.е. p(X3|Y3)=1, p(X3)= 0.0227 ,p(Y3)= 0.0157\n",
      "тогда, p(Y3|X3)=p(Y3)/p(X3)=  0.6925\n",
      "-------------------\n",
      "выборка с удалением пропусков: X3=0 30117 96.89 %\n",
      "выборка с удалением пропусков: Y3=0 30414 97.85 %\n",
      "выборка с удалением пропусков: X3=1 966 3.11 %\n",
      "выборка с удалением пропусков: Y3=1 669 2.15 %\n",
      "выборка с удалением пропусков: X3=NaN 0 0.0 %\n",
      "выборка с удалением пропусков: Y3=NaN 0 0.0 %\n",
      "---\n",
      "т.е. p(X3|Y3)=1, p(X3)= 0.0311 ,p(Y3)= 0.0215\n",
      "тогда, p(Y3|X3)=p(Y3)/p(X3)=  0.6925\n",
      "-------------------\n",
      "resampling: X3=0 41162 96.87 %\n",
      "resampling: Y3=0 41621 97.95 %\n",
      "resampling: X3=1 1329 3.13 %\n",
      "resampling: Y3=1 870 2.05 %\n",
      "resampling: X3=NaN 0 0.0 %\n",
      "resampling: Y3=NaN 0 0.0 %\n",
      "---\n",
      "т.е. p(X3|Y3)=1, p(X3)= 0.0313 ,p(Y3)= 0.0205\n",
      "тогда, p(Y3|X3)=p(Y3)/p(X3)=  0.6546 - далее это значение используется для предсказания выборки Y3 по X3\n"
     ]
    }
   ],
   "source": [
    "print \"Не существует X3=0, при Y3=1.\", \"Сумма всех X3|(Y3=1)=\", np.sum(data.X3[data.Y3==1]), \"всего (Y3=1)=\", np.sum(data.Y3==1)\n",
    "print \"-------------------\"\n",
    "print \"начальная выборка:\", \"X3=0\", np.sum(data.X3==0), np.round(np.sum(data.X3==0)*100./np.size(data.X3),2), \"%\"\n",
    "print \"начальная выборка:\", \"Y3=0\", np.sum(data.Y3==0), np.round(np.sum(data.Y3==0)*100./np.size(data.X3),2), \"%\"\n",
    "print \"начальная выборка:\", \"X3=1\", np.sum(data.X3==1), np.round(np.sum(data.X3==1)*100./np.size(data.X3),2), \"%\"\n",
    "print \"начальная выборка:\", \"Y3=1\", np.sum(data.Y3==1), np.round(np.sum(data.Y3==1)*100./np.size(data.X3),2), \"%\"\n",
    "x_nan=np.size(data.X3)-np.sum(data.X3==0)-np.sum(data.X3==1)\n",
    "y_nan=np.size(data.Y3)-np.sum(data.Y3==0)-np.sum(data.Y3==1)\n",
    "print \"начальная выборка:\", \"X3=NaN\", x_nan, np.round(x_nan*100./np.size(data.X3),2), \"%\"\n",
    "print \"начальная выборка:\", \"Y3=NaN\", y_nan, np.round(y_nan*100./np.size(data.X3),2), \"%\"\n",
    "print \"---\"\n",
    "print \"т.е. p(X3|Y3)=1, p(X3)=\", np.round(np.sum(data.X3==1)*1./np.size(data.X3),4), \",p(Y3)=\", np.round(np.sum(data.Y3==1)*1./np.size(data.Y3),4)\n",
    "p_y3_data=np.round(np.sum((data.Y3==1)*1./np.size(data.Y3))/np.sum((data.X3==1)*1./np.size(data.X3)),4)\n",
    "print \"тогда, p(Y3|X3)=p(Y3)/p(X3)= \",p_y3_data\n",
    "print \"-------------------\"\n",
    "\n",
    "print \"выборка с удалением пропусков:\", \"X3=0\", np.sum(data_w_na.X3==0), np.round(np.sum(data_w_na.X3==0)*100./np.size(data_w_na.X3),2), \"%\"\n",
    "print \"выборка с удалением пропусков:\", \"Y3=0\", np.sum(data_w_na.Y3==0), np.round(np.sum(data_w_na.Y3==0)*100./np.size(data_w_na.X3),2), \"%\"\n",
    "print \"выборка с удалением пропусков:\", \"X3=1\", np.sum(data_w_na.X3==1), np.round(np.sum(data_w_na.X3==1)*100./np.size(data_w_na.X3),2), \"%\"\n",
    "print \"выборка с удалением пропусков:\", \"Y3=1\", np.sum(data_w_na.Y3==1), np.round(np.sum(data_w_na.Y3==1)*100./np.size(data_w_na.X3),2), \"%\"\n",
    "x_nan=np.size(data_w_na.X3)-np.sum(data_w_na.X3==0)-np.sum(data_w_na.X3==1)\n",
    "y_nan=np.size(data_w_na.Y3)-np.sum(data_w_na.Y3==0)-np.sum(data_w_na.Y3==1)\n",
    "print \"выборка с удалением пропусков:\", \"X3=NaN\", x_nan, np.round(x_nan*100./np.size(data_w_na.X3),2), \"%\"\n",
    "print \"выборка с удалением пропусков:\", \"Y3=NaN\", y_nan, np.round(y_nan*100./np.size(data_w_na.X3),2), \"%\"\n",
    "print \"---\"\n",
    "print \"т.е. p(X3|Y3)=1, p(X3)=\", np.round(np.sum(data_w_na.X3==1)*1./np.size(data_w_na.X3),4), \",p(Y3)=\", np.round(np.sum(data_w_na.Y3==1)*1./np.size(data_w_na.Y3),4)\n",
    "p_y3_data_na=np.round(np.sum((data_w_na.Y3==1)*1./np.size(data_w_na.Y3))/np.sum((data_w_na.X3==1)*1./np.size(data_w_na.X3)),4)\n",
    "print \"тогда, p(Y3|X3)=p(Y3)/p(X3)= \",p_y3_data_na\n",
    "print \"-------------------\"\n",
    "\n",
    "print \"resampling:\", \"X3=0\", np.sum(data_resampled.X3==0), np.round(np.sum(data_resampled.X3==0)*100./np.size(data_resampled.X3),2), \"%\"\n",
    "print \"resampling:\", \"Y3=0\", np.sum(data_resampled.Y3==0), np.round(np.sum(data_resampled.Y3==0)*100./np.size(data_resampled.X3),2), \"%\"\n",
    "print \"resampling:\", \"X3=1\", np.sum(data_resampled.X3==1), np.round(np.sum(data_resampled.X3==1)*100./np.size(data_resampled.X3),2), \"%\"\n",
    "print \"resampling:\", \"Y3=1\", np.sum(data_resampled.Y3==1), np.round(np.sum(data_resampled.Y3==1)*100./np.size(data_resampled.X3),2), \"%\"\n",
    "x_nan=np.size(data_resampled.X3)-np.sum(data_resampled.X3==0)-np.sum(data_resampled.X3==1)\n",
    "y_nan=np.size(data_resampled.Y3)-np.sum(data_resampled.Y3==0)-np.sum(data_resampled.Y3==1)\n",
    "print \"resampling:\", \"X3=NaN\", x_nan, np.round(x_nan*100./np.size(data_resampled.X3),2), \"%\"\n",
    "print \"resampling:\", \"Y3=NaN\", y_nan, np.round(y_nan*100./np.size(data_resampled.X3),2), \"%\"\n",
    "print \"---\"\n",
    "print \"т.е. p(X3|Y3)=1, p(X3)=\", np.round(np.sum(data_resampled.X3==1)*1./np.size(data_resampled.X3),4), \",p(Y3)=\", np.round(np.sum(data_resampled.Y3==1)*1./np.size(data_resampled.Y3),4)\n",
    "p_y3_resampled=np.round(np.sum((data_resampled.Y3==1)*1./np.size(data_resampled.Y3))/np.sum((data_resampled.X3==1)*1./np.size(data_resampled.X3)),4)\n",
    "print \"тогда, p(Y3|X3)=p(Y3)/p(X3)= \",p_y3_resampled, \"- далее это значение используется для предсказания выборки Y3 по X3\"\n"
   ]
  },
  {
   "cell_type": "markdown",
   "metadata": {},
   "source": [
    "В то время как выборке присутствуют 2 целевые переменные, в процессе исследования было решено отказаться от задачи многоклассовой классификации. А рассмартивать задачу классификации по переменной X3 и затем по формуле Байеса по условным вероятностям предсказывать целевую переменную Y3. Это связано с особенностью выборки: не существует X3=0, при Y3=1. Т.е. Y3=1 только если Х3 уже = 1. Подобная ситуация характерна для скоринговой модели, гда в качестве переменных Х3 и Y3 могут выступать данные об уровне просрочки, н-р, Х3= +5 дней просрочки, Y3=+30 дней (условно). Y3 не может существовать до появления Х3. По крайней мере в рамках имеющихся наблюдений. Дополнительных описательных данных нет. "
   ]
  },
  {
   "cell_type": "code",
   "execution_count": 14,
   "metadata": {},
   "outputs": [
    {
     "name": "stdout",
     "output_type": "stream",
     "text": [
      "(42491L, 50L) (42491L,)\n"
     ]
    },
    {
     "name": "stderr",
     "output_type": "stream",
     "text": [
      "C:\\Anaconda2\\lib\\site-packages\\sklearn\\utils\\validation.py:420: DataConversionWarning: Data with input dtype int64 was converted to float64 by StandardScaler.\n",
      "  warnings.warn(msg, DataConversionWarning)\n",
      "C:\\Anaconda2\\lib\\site-packages\\sklearn\\utils\\validation.py:420: DataConversionWarning: Data with input dtype int64 was converted to float64 by StandardScaler.\n",
      "  warnings.warn(msg, DataConversionWarning)\n"
     ]
    }
   ],
   "source": [
    "# масштабирование признаков (месяц)\n",
    "X_resampled=pd.DataFrame\n",
    "X_resampled=data_resampled.drop([\"report_dt\",\"ID\",\"X3\",\"Y3\",\"clastr\"], axis=1)\n",
    "X_resampled=X_resampled.values\n",
    "Y_resampled=data_resampled.clastr.values\n",
    "print X_resampled.shape, Y_resampled.shape\n",
    "\n",
    "scaler=StandardScaler()\n",
    "scaler.fit(X_resampled, Y_resampled)\n",
    "X_resampled_scaled=scaler.transform(X_resampled)"
   ]
  },
  {
   "cell_type": "code",
   "execution_count": 15,
   "metadata": {},
   "outputs": [
    {
     "name": "stdout",
     "output_type": "stream",
     "text": [
      "[-0.14542439 -0.06356605 -0.25837061 -0.15032694 -0.54987836 -0.14710301\n",
      " -0.14457839 -0.18314617 -0.13212139 -0.13258164 -0.0641235  -0.13458935\n",
      "  8.72445714  2.78780967  1.09176579 -0.15316746 -0.26351518 -0.14449353\n",
      " -0.19063205 -0.12473682 -0.06356605 -0.20879333 -0.39540302 -0.02745302\n",
      " -0.10193822 -0.15389016 -0.15032694 -0.11577396 -0.09423388 -0.02276016\n",
      " -0.01372263 -0.13147451 -0.06011468 -0.11152467 -0.1621058  -0.08806493\n",
      " -0.23333611 -0.01879204 -0.06319173 -0.03600096 -0.0868353  -0.07831213\n",
      " -0.08418225 -0.07197732 -0.08026579 -0.01188387 -0.0306963  -0.01372263\n",
      " -0.03219607 -0.67058205]\n"
     ]
    }
   ],
   "source": [
    "print X_resampled_scaled[0]"
   ]
  },
  {
   "cell_type": "markdown",
   "metadata": {},
   "source": [
    "### Отсев признаков"
   ]
  },
  {
   "cell_type": "code",
   "execution_count": 16,
   "metadata": {},
   "outputs": [
    {
     "name": "stdout",
     "output_type": "stream",
     "text": [
      "0 1.1. 0.0331428972434\n",
      "1 1.2. 0.00304166542608\n",
      "2 1.3. 0.0141696982406\n",
      "3 1.4. 0.0066980936814\n",
      "4 1.5. 0.0274272916352\n",
      "5 1.6. 0.00394945633867\n",
      "6 1.7. 0.00417270753707\n",
      "7 1.8. 0.0115128375542\n",
      "8 1.9. 0.00486842579486\n",
      "9 1.10. 0.0106031189272\n",
      "10 1.11. 0.00165082976193\n",
      "11 1.12. 0.00385882157041\n",
      "12 1.13. 0.00585216148256\n",
      "13 1.14. 0.0329880947747\n",
      "14 1.15. 0.0300387054219\n",
      "15 1.16. 0.0151090820702\n",
      "16 1.17. 0.0579466996983\n",
      "17 1.18. 0.00269468238136\n",
      "18 1.19. 0.00690142865918\n",
      "19 2.1. 0.0380504333923\n",
      "20 2.2. 0.00399453921541\n",
      "21 2.3. 0.0339145345275\n",
      "22 2.4. 0.0314921571526\n",
      "23 2.5. 0.00253886628322\n",
      "24 2.6. 0.00333486779317\n",
      "25 2.7. 0.00947815648158\n",
      "26 2.8. 0.020199682752\n",
      "27 2.9. 0.017137097177\n",
      "28 2.10. 0.00563287034515\n",
      "29 2.11. 8.44716430028e-05\n",
      "30 2.13. 1.95036382643e-05\n",
      "31 2.14. 0.00990752699577\n",
      "32 2.15. 0.0032341715848\n",
      "33 2.16. 0.00807810031308\n",
      "34 3.1. 0.218874279972\n",
      "35 3.2. 0.0376439301011\n",
      "36 3.3. 0.0173580672756\n",
      "37 3.4. 0.00216398549527\n",
      "38 3.5. 0.0106048772352\n",
      "39 3.6. 0.00451889025374\n",
      "40 3.7. 0.0155295214098\n",
      "41 3.8. 0.00112175946282\n",
      "42 3.9. 0.0260032567444\n",
      "43 3.10. 0.00182958595947\n",
      "44 3.11. 0.0138029984824\n",
      "45 3.12. 2.1613933104e-05\n",
      "46 3.13. 0.000169409167977\n",
      "47 3.14. 0.000984401376871\n",
      "48 3.15. 0.00222871313175\n",
      "49 month 0.183421032504\n"
     ]
    }
   ],
   "source": [
    "# выявление несущественных признаков \n",
    "etc=ensemble.ExtraTreesClassifier(class_weight=\"balanced\", n_estimators=30, bootstrap=True, random_state=3, n_jobs=-1, )\n",
    "etc.fit(X_resampled_scaled, Y_resampled)\n",
    "for i in range(len(etc.feature_importances_)):\n",
    "    print i, data_resampled.drop([\"report_dt\",\"ID\",\"X3\",\"Y3\",\"clastr\"], axis=1, inplace=False).columns[i], etc.feature_importances_[np.round(i,2)]"
   ]
  },
  {
   "cell_type": "code",
   "execution_count": 17,
   "metadata": {},
   "outputs": [
    {
     "name": "stdout",
     "output_type": "stream",
     "text": [
      "(42491L, 41L) (42491L,)\n"
     ]
    },
    {
     "name": "stderr",
     "output_type": "stream",
     "text": [
      "C:\\Anaconda2\\lib\\site-packages\\sklearn\\utils\\validation.py:420: DataConversionWarning: Data with input dtype int64 was converted to float64 by StandardScaler.\n",
      "  warnings.warn(msg, DataConversionWarning)\n",
      "C:\\Anaconda2\\lib\\site-packages\\sklearn\\utils\\validation.py:420: DataConversionWarning: Data with input dtype int64 was converted to float64 by StandardScaler.\n",
      "  warnings.warn(msg, DataConversionWarning)\n"
     ]
    }
   ],
   "source": [
    "# удаление несущественных признаков и повторное формирование выборки с последующим масштабированием\n",
    "X_resampled=pd.DataFrame\n",
    "X_resampled=data_resampled.drop([\"report_dt\",\"ID\",\"X3\",\"Y3\",\"clastr\",\"2.5.\",\"2.11.\",\"2.13.\",\"3.4.\",\"3.6.\",\"3.12.\",\"3.13.\",\"3.14.\",\"3.15.\"], axis=1)\n",
    "X_resampled=X_resampled.values\n",
    "Y_resampled=data_resampled.clastr.values\n",
    "#Y_resampled=Y_resampled.reshape((len(data_resampled.clastr.values),1))\n",
    "print X_resampled.shape, Y_resampled.shape\n",
    "\n",
    "scaler=StandardScaler()\n",
    "scaler.fit(X_resampled, Y_resampled)\n",
    "X_resampled_scaled=scaler.transform(X_resampled)"
   ]
  },
  {
   "cell_type": "markdown",
   "metadata": {},
   "source": [
    "### Train / test / validation"
   ]
  },
  {
   "cell_type": "code",
   "execution_count": 18,
   "metadata": {
    "collapsed": true
   },
   "outputs": [],
   "source": [
    "# Разбиение выборки на обучение / тест. Подвыборки стратифицированы. Балансировка производится через атрибут (class_weight=\"balanced\")\n",
    "train_data, test_data, train_labels, test_labels = cross_validation.train_test_split(X_resampled_scaled,\n",
    "                                                                                     Y_resampled, test_size = 0.3,\n",
    "                                                                                     stratify=Y_resampled, random_state=3)\n",
    "#Для создания одинаковой выборки для 2-х целевых переменных, была введена промежуточная переменная \"clastr\".\n",
    "# разделяем \"clastr\" на X3 и Y3\n",
    "mapping_X3 = {2.0 : 1, 1.0: 1, 0.0: 0}\n",
    "train_labels_X3 = [mapping_X3[i] for i in train_labels]\n",
    "test_labels_X3 = [mapping_X3[i] for i in test_labels]\n",
    "\n",
    "mapping_Y3 = {2.0 : 1, 1.0: 0, 0.0: 0}\n",
    "train_labels_Y3 = [mapping_Y3[i] for i in train_labels]\n",
    "test_labels_Y3 = [mapping_Y3[i] for i in test_labels]\n",
    "\n",
    "#параметр кросс-валидации для перебора по сетке GridSearch.\n",
    "cv = cross_validation.StratifiedShuffleSplit(train_labels_X3, n_iter = 10, test_size = 0.2, random_state = 0)"
   ]
  },
  {
   "cell_type": "markdown",
   "metadata": {},
   "source": [
    "### Logistic Regression"
   ]
  },
  {
   "cell_type": "markdown",
   "metadata": {},
   "source": [
    "В качестве рабочей модели была выбрана Logistic Regression как показавшая наилучшие результаты на тестах. Так же приемлимо отработала (recall>80) модель Rendom Forest. Тесты остальных моделей в файле Working."
   ]
  },
  {
   "cell_type": "markdown",
   "metadata": {},
   "source": [
    "Для целей оценки качества была выбрана метрика полноты (recall) класса 1 переменной Х3. Выбор обусловлен особенностью основной выборки, а именно: значительная несбалансированность меток классов целевой переменной (класс-0 ~ 97%, класс - 1 ~3%). Эта несбалансированность повышает значимость предсказания малого класса в ущерб точности (preccision). При том, что точность (preccision) из-за непропорционального размера класса 0, стабильно выше 0,95 Подобные  задачи характерны, н-р, для обнаружения мошеннеческих операций (которых также не много в общей массе операций). \"Цена ошибки\" не распознать редкое мошеннеческое действие выше \"цены ошибки\" принять обычную операцию за мошеннеческую."
   ]
  },
  {
   "cell_type": "code",
   "execution_count": 19,
   "metadata": {
    "collapsed": true
   },
   "outputs": [],
   "source": [
    "model_4=linear_model.LogisticRegression(class_weight=\"balanced\",random_state=3, n_jobs=-1)\n",
    "#linear_model.LogisticRegression()\n",
    "model_4.fit(train_data, train_labels_X3)\n",
    "model_4_pred_X3=model_4.predict_proba(test_data)\n",
    "model_4_pred_Y3=np.round(model_4_pred_X3[:,1]*p_y3_resampled)"
   ]
  },
  {
   "cell_type": "code",
   "execution_count": 20,
   "metadata": {
    "collapsed": true
   },
   "outputs": [],
   "source": [
    "def plot_scores_C(optimizer):\n",
    "    scores = [[item[0]['C'], \n",
    "               item[1], \n",
    "               (np.sum((item[2]-item[1])**2)/(item[2].size-1))**0.5] for item in optimizer.grid_scores_]\n",
    "    scores = np.array(scores)\n",
    "    plt.semilogx(scores[:,0], scores[:,1])\n",
    "    plt.fill_between(scores[:,0], scores[:,1]-scores[:,2], \n",
    "                                  scores[:,1]+scores[:,2], alpha=0.3)\n",
    "    plt.show()"
   ]
  },
  {
   "cell_type": "code",
   "execution_count": 21,
   "metadata": {},
   "outputs": [
    {
     "name": "stdout",
     "output_type": "stream",
     "text": [
      "LogisticRegression(C=0.001, class_weight='balanced', dual=False,\n",
      "          fit_intercept=True, intercept_scaling=1, max_iter=100,\n",
      "          multi_class='ovr', n_jobs=-1, penalty='l2', random_state=3,\n",
      "          solver='liblinear', tol=0.0001, verbose=0, warm_start=False)\n",
      "0.828571428571\n",
      "{'penalty': 'l2', 'C': 0.001}\n",
      "[mean: 0.77407, std: 0.04312, params: {'penalty': 'l1', 'C': 0.001}, mean: 0.82857, std: 0.03750, params: {'penalty': 'l2', 'C': 0.001}, mean: 0.81323, std: 0.03967, params: {'penalty': 'l1', 'C': 0.005}, mean: 0.82698, std: 0.03262, params: {'penalty': 'l2', 'C': 0.005}, mean: 0.82646, std: 0.03403, params: {'penalty': 'l1', 'C': 0.01}, mean: 0.82698, std: 0.03262, params: {'penalty': 'l2', 'C': 0.01}, mean: 0.82646, std: 0.03260, params: {'penalty': 'l1', 'C': 0.05}, mean: 0.82698, std: 0.03262, params: {'penalty': 'l2', 'C': 0.05}, mean: 0.82646, std: 0.03260, params: {'penalty': 'l1', 'C': 0.1}, mean: 0.82698, std: 0.03262, params: {'penalty': 'l2', 'C': 0.1}, mean: 0.82698, std: 0.03262, params: {'penalty': 'l1', 'C': 0.5}, mean: 0.82698, std: 0.03262, params: {'penalty': 'l2', 'C': 0.5}, mean: 0.82698, std: 0.03262, params: {'penalty': 'l1', 'C': 1}, mean: 0.82698, std: 0.03262, params: {'penalty': 'l2', 'C': 1}, mean: 0.82698, std: 0.03262, params: {'penalty': 'l1', 'C': 5}, mean: 0.82698, std: 0.03262, params: {'penalty': 'l2', 'C': 5}, mean: 0.82698, std: 0.03262, params: {'penalty': 'l1', 'C': 10}, mean: 0.82698, std: 0.03262, params: {'penalty': 'l2', 'C': 10}]\n"
     ]
    },
    {
     "data": {
      "image/png": "[encoded data removed]",
      "text/plain": [
       "<matplotlib.figure.Figure at 0xb835d68>"
      ]
     },
     "metadata": {},
     "output_type": "display_data"
    }
   ],
   "source": [
    "parameters_grid_4 = {'C': [0.001, 0.005, 0.01, 0.05, 0.1, 0.5, 1, 5, 10],\n",
    "                  'penalty' : ['l1', 'l2'],}\n",
    "\n",
    "opt_4=GridSearchCV(model_4, param_grid=parameters_grid_4, cv=cv, scoring=\"recall\")\n",
    "opt_4.fit(train_data, train_labels_X3)\n",
    "\n",
    "opt_4_pred = opt_4.predict(test_data)\n",
    "\n",
    "print opt_4.best_estimator_\n",
    "print opt_4.best_score_\n",
    "print opt_4.best_params_\n",
    "print opt_4.grid_scores_\n",
    "plot_scores_C(opt_4)"
   ]
  },
  {
   "cell_type": "code",
   "execution_count": 22,
   "metadata": {
    "collapsed": true
   },
   "outputs": [],
   "source": [
    "model_4_b=linear_model.LogisticRegression(class_weight=\"balanced\", n_jobs=-1, random_state=3,\n",
    "                                          C=opt_4.best_params_['C'], penalty=opt_4.best_params_['penalty'])\n",
    "model_4_b.fit(train_data, train_labels_X3)\n",
    "model_4_b_pred_X3=model_4_b.predict_proba(test_data)\n",
    "model_4_b_pred_Y3=np.round(model_4_b_pred_X3[:,1]*p_y3_resampled)"
   ]
  },
  {
   "cell_type": "code",
   "execution_count": 23,
   "metadata": {},
   "outputs": [
    {
     "name": "stdout",
     "output_type": "stream",
     "text": [
      "recall_X3_train: 0.859259259259\n",
      "recall_Y3_train: 0.90157480315\n",
      "             precision    recall  f1-score   support\n",
      "\n",
      "          0       1.00      0.93      0.96     12343\n",
      "          1       0.30      0.86      0.44       405\n",
      "\n",
      "avg / total       0.97      0.93      0.95     12748\n",
      "\n",
      "--------------\n",
      "recall_X3_test: 0.861728395062\n",
      "recall_Y3_test: 0.897637795276\n",
      "             precision    recall  f1-score   support\n",
      "\n",
      "          0       1.00      0.93      0.96     12343\n",
      "          1       0.29      0.86      0.43       405\n",
      "\n",
      "avg / total       0.97      0.93      0.95     12748\n",
      "\n"
     ]
    }
   ],
   "source": [
    "print \"recall_X3_train:\", metrics.recall_score(test_labels_X3, model_4.predict(test_data))\n",
    "print \"recall_Y3_train:\", metrics.recall_score(test_labels_Y3, model_4_pred_Y3)\n",
    "print metrics.classification_report(test_labels_X3, model_4.predict(test_data))\n",
    "\n",
    "print \"--------------\"\n",
    "print \"recall_X3_test:\", metrics.recall_score(test_labels_X3, model_4_b.predict(test_data))\n",
    "print \"recall_Y3_test:\", metrics.recall_score(test_labels_Y3, model_4_b_pred_Y3)\n",
    "print metrics.classification_report(test_labels_X3, model_4_b.predict(test_data))"
   ]
  },
  {
   "cell_type": "code",
   "execution_count": null,
   "metadata": {
    "collapsed": true
   },
   "outputs": [],
   "source": []
  }
 ],
 "metadata": {
  "anaconda-cloud": {},
  "kernelspec": {
   "display_name": "Python 2",
   "language": "python",
   "name": "python2"
  },
  "language_info": {
   "codemirror_mode": {
    "name": "ipython",
    "version": 2
   },
   "file_extension": ".py",
   "mimetype": "text/x-python",
   "name": "python",
   "nbconvert_exporter": "python",
   "pygments_lexer": "ipython2",
   "version": "2.7.13"
  }
 },
 "nbformat": 4,
 "nbformat_minor": 1
}
